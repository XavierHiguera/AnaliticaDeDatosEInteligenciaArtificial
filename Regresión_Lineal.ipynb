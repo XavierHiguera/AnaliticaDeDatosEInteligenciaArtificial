{
  "nbformat": 4,
  "nbformat_minor": 0,
  "metadata": {
    "colab": {
      "provenance": [],
      "authorship_tag": "ABX9TyNuNJVpWNyltXhaZrR1ieXi",
      "include_colab_link": true
    },
    "kernelspec": {
      "name": "python3",
      "display_name": "Python 3"
    },
    "language_info": {
      "name": "python"
    }
  },
  "cells": [
    {
      "cell_type": "markdown",
      "metadata": {
        "id": "view-in-github",
        "colab_type": "text"
      },
      "source": [
        "<a href=\"https://colab.research.google.com/github/XavierHiguera/AnaliticaDeDatosEInteligenciaArtificial/blob/main/Regresi%C3%B3n_Lineal.ipynb\" target=\"_parent\"><img src=\"https://colab.research.google.com/assets/colab-badge.svg\" alt=\"Open In Colab\"/></a>"
      ]
    },
    {
      "cell_type": "code",
      "execution_count": 1,
      "metadata": {
        "id": "vx4pOLGh0iiN"
      },
      "outputs": [],
      "source": [
        "import pandas as pd\n",
        "import numpy as np\n",
        "import matplotlib.pyplot as plt\n",
        "import seaborn as sns"
      ]
    },
    {
      "cell_type": "code",
      "source": [
        "#Cargamos un archivo CSV desde equipo\n",
        "from google.colab import files\n",
        "files.upload()"
      ],
      "metadata": {
        "colab": {
          "base_uri": "https://localhost:8080/",
          "height": 127
        },
        "id": "CCgHCS0Y0siZ",
        "outputId": "f37cbfb5-fd07-47d3-8c39-19599d3d05c6"
      },
      "execution_count": 2,
      "outputs": [
        {
          "output_type": "display_data",
          "data": {
            "text/plain": [
              "<IPython.core.display.HTML object>"
            ],
            "text/html": [
              "\n",
              "     <input type=\"file\" id=\"files-1a7f6f38-66da-4a46-8039-477e71b909e5\" name=\"files[]\" multiple disabled\n",
              "        style=\"border:none\" />\n",
              "     <output id=\"result-1a7f6f38-66da-4a46-8039-477e71b909e5\">\n",
              "      Upload widget is only available when the cell has been executed in the\n",
              "      current browser session. Please rerun this cell to enable.\n",
              "      </output>\n",
              "      <script>// Copyright 2017 Google LLC\n",
              "//\n",
              "// Licensed under the Apache License, Version 2.0 (the \"License\");\n",
              "// you may not use this file except in compliance with the License.\n",
              "// You may obtain a copy of the License at\n",
              "//\n",
              "//      http://www.apache.org/licenses/LICENSE-2.0\n",
              "//\n",
              "// Unless required by applicable law or agreed to in writing, software\n",
              "// distributed under the License is distributed on an \"AS IS\" BASIS,\n",
              "// WITHOUT WARRANTIES OR CONDITIONS OF ANY KIND, either express or implied.\n",
              "// See the License for the specific language governing permissions and\n",
              "// limitations under the License.\n",
              "\n",
              "/**\n",
              " * @fileoverview Helpers for google.colab Python module.\n",
              " */\n",
              "(function(scope) {\n",
              "function span(text, styleAttributes = {}) {\n",
              "  const element = document.createElement('span');\n",
              "  element.textContent = text;\n",
              "  for (const key of Object.keys(styleAttributes)) {\n",
              "    element.style[key] = styleAttributes[key];\n",
              "  }\n",
              "  return element;\n",
              "}\n",
              "\n",
              "// Max number of bytes which will be uploaded at a time.\n",
              "const MAX_PAYLOAD_SIZE = 100 * 1024;\n",
              "\n",
              "function _uploadFiles(inputId, outputId) {\n",
              "  const steps = uploadFilesStep(inputId, outputId);\n",
              "  const outputElement = document.getElementById(outputId);\n",
              "  // Cache steps on the outputElement to make it available for the next call\n",
              "  // to uploadFilesContinue from Python.\n",
              "  outputElement.steps = steps;\n",
              "\n",
              "  return _uploadFilesContinue(outputId);\n",
              "}\n",
              "\n",
              "// This is roughly an async generator (not supported in the browser yet),\n",
              "// where there are multiple asynchronous steps and the Python side is going\n",
              "// to poll for completion of each step.\n",
              "// This uses a Promise to block the python side on completion of each step,\n",
              "// then passes the result of the previous step as the input to the next step.\n",
              "function _uploadFilesContinue(outputId) {\n",
              "  const outputElement = document.getElementById(outputId);\n",
              "  const steps = outputElement.steps;\n",
              "\n",
              "  const next = steps.next(outputElement.lastPromiseValue);\n",
              "  return Promise.resolve(next.value.promise).then((value) => {\n",
              "    // Cache the last promise value to make it available to the next\n",
              "    // step of the generator.\n",
              "    outputElement.lastPromiseValue = value;\n",
              "    return next.value.response;\n",
              "  });\n",
              "}\n",
              "\n",
              "/**\n",
              " * Generator function which is called between each async step of the upload\n",
              " * process.\n",
              " * @param {string} inputId Element ID of the input file picker element.\n",
              " * @param {string} outputId Element ID of the output display.\n",
              " * @return {!Iterable<!Object>} Iterable of next steps.\n",
              " */\n",
              "function* uploadFilesStep(inputId, outputId) {\n",
              "  const inputElement = document.getElementById(inputId);\n",
              "  inputElement.disabled = false;\n",
              "\n",
              "  const outputElement = document.getElementById(outputId);\n",
              "  outputElement.innerHTML = '';\n",
              "\n",
              "  const pickedPromise = new Promise((resolve) => {\n",
              "    inputElement.addEventListener('change', (e) => {\n",
              "      resolve(e.target.files);\n",
              "    });\n",
              "  });\n",
              "\n",
              "  const cancel = document.createElement('button');\n",
              "  inputElement.parentElement.appendChild(cancel);\n",
              "  cancel.textContent = 'Cancel upload';\n",
              "  const cancelPromise = new Promise((resolve) => {\n",
              "    cancel.onclick = () => {\n",
              "      resolve(null);\n",
              "    };\n",
              "  });\n",
              "\n",
              "  // Wait for the user to pick the files.\n",
              "  const files = yield {\n",
              "    promise: Promise.race([pickedPromise, cancelPromise]),\n",
              "    response: {\n",
              "      action: 'starting',\n",
              "    }\n",
              "  };\n",
              "\n",
              "  cancel.remove();\n",
              "\n",
              "  // Disable the input element since further picks are not allowed.\n",
              "  inputElement.disabled = true;\n",
              "\n",
              "  if (!files) {\n",
              "    return {\n",
              "      response: {\n",
              "        action: 'complete',\n",
              "      }\n",
              "    };\n",
              "  }\n",
              "\n",
              "  for (const file of files) {\n",
              "    const li = document.createElement('li');\n",
              "    li.append(span(file.name, {fontWeight: 'bold'}));\n",
              "    li.append(span(\n",
              "        `(${file.type || 'n/a'}) - ${file.size} bytes, ` +\n",
              "        `last modified: ${\n",
              "            file.lastModifiedDate ? file.lastModifiedDate.toLocaleDateString() :\n",
              "                                    'n/a'} - `));\n",
              "    const percent = span('0% done');\n",
              "    li.appendChild(percent);\n",
              "\n",
              "    outputElement.appendChild(li);\n",
              "\n",
              "    const fileDataPromise = new Promise((resolve) => {\n",
              "      const reader = new FileReader();\n",
              "      reader.onload = (e) => {\n",
              "        resolve(e.target.result);\n",
              "      };\n",
              "      reader.readAsArrayBuffer(file);\n",
              "    });\n",
              "    // Wait for the data to be ready.\n",
              "    let fileData = yield {\n",
              "      promise: fileDataPromise,\n",
              "      response: {\n",
              "        action: 'continue',\n",
              "      }\n",
              "    };\n",
              "\n",
              "    // Use a chunked sending to avoid message size limits. See b/62115660.\n",
              "    let position = 0;\n",
              "    do {\n",
              "      const length = Math.min(fileData.byteLength - position, MAX_PAYLOAD_SIZE);\n",
              "      const chunk = new Uint8Array(fileData, position, length);\n",
              "      position += length;\n",
              "\n",
              "      const base64 = btoa(String.fromCharCode.apply(null, chunk));\n",
              "      yield {\n",
              "        response: {\n",
              "          action: 'append',\n",
              "          file: file.name,\n",
              "          data: base64,\n",
              "        },\n",
              "      };\n",
              "\n",
              "      let percentDone = fileData.byteLength === 0 ?\n",
              "          100 :\n",
              "          Math.round((position / fileData.byteLength) * 100);\n",
              "      percent.textContent = `${percentDone}% done`;\n",
              "\n",
              "    } while (position < fileData.byteLength);\n",
              "  }\n",
              "\n",
              "  // All done.\n",
              "  yield {\n",
              "    response: {\n",
              "      action: 'complete',\n",
              "    }\n",
              "  };\n",
              "}\n",
              "\n",
              "scope.google = scope.google || {};\n",
              "scope.google.colab = scope.google.colab || {};\n",
              "scope.google.colab._files = {\n",
              "  _uploadFiles,\n",
              "  _uploadFilesContinue,\n",
              "};\n",
              "})(self);\n",
              "</script> "
            ]
          },
          "metadata": {}
        },
        {
          "output_type": "stream",
          "name": "stdout",
          "text": [
            "Saving car_crashes.csv to car_crashes.csv\n"
          ]
        },
        {
          "output_type": "execute_result",
          "data": {
            "text/plain": [
              "{'car_crashes.csv': b'total,speeding,alcohol,not_distracted,no_previous,ins_premium,ins_losses,abbrev\\r\\n18.8,7.332000000000001,5.64,18.048000000000002,15.04,784.55,145.08,AL\\r\\n18.1,7.421,4.525,16.290000000000003,17.014,1053.48,133.93,AK\\r\\n18.6,6.51,5.208000000000001,15.624,17.856,899.47,110.35,AZ\\r\\n22.4,4.032,5.824,21.055999999999997,21.28,827.34,142.39,AR\\r\\n12.0,4.2,3.36,10.92,10.68,878.41,165.63,CA\\r\\n13.6,5.032,3.8080000000000003,10.743999999999998,12.92,835.5,139.91,CO\\r\\n10.8,4.968,3.888,9.396,8.856,1068.73,167.02,CT\\r\\n16.2,6.156000000000001,4.86,14.094,16.038,1137.87,151.48,DE\\r\\n5.9,2.0060000000000002,1.5930000000000002,5.9,5.9,1273.89,136.05,DC\\r\\n17.9,3.759,5.190999999999999,16.468,16.826,1160.13,144.18,FL\\r\\n15.6,2.964,3.9,14.82,14.508,913.15,142.8,GA\\r\\n17.5,9.45,7.175,14.35,15.225,861.18,120.92,HI\\r\\n15.3,5.508000000000001,4.437,13.005,14.994000000000002,641.96,82.75,ID\\r\\n12.8,4.6080000000000005,4.352,12.032,12.288000000000002,803.11,139.15,IL\\r\\n14.5,3.625,4.205,13.775,13.775,710.46,108.92,IN\\r\\n15.7,2.6689999999999996,3.925,15.229,13.658999999999999,649.06,114.47,IA\\r\\n17.8,4.806,4.272,13.706000000000001,15.13,780.45,133.8,KS\\r\\n21.4,4.066,4.922,16.691999999999997,16.264,872.51,137.13,KY\\r\\n20.5,7.175,6.765,14.965,20.09,1281.55,194.78,LA\\r\\n15.1,5.7379999999999995,4.53,13.137,12.684,661.88,96.57,ME\\r\\n12.5,4.25,4.0,8.875,12.375,1048.78,192.7,MD\\r\\n8.2,1.886,2.87,7.1339999999999995,6.56,1011.14,135.63,MA\\r\\n14.1,3.384,3.948,13.395,10.857000000000001,1110.61,152.26,MI\\r\\n9.6,2.2079999999999997,2.784,8.448,8.448,777.18,133.35,MN\\r\\n17.6,2.64,5.456,1.76,17.6,896.07,155.77,MS\\r\\n16.1,6.923000000000001,5.474000000000001,14.812000000000001,13.524000000000001,790.32,144.45,MO\\r\\n21.4,8.345999999999998,9.415999999999999,17.976,18.189999999999998,816.21,85.15,MT\\r\\n14.9,1.9370000000000003,5.215,13.857000000000001,13.41,732.28,114.82,NE\\r\\n14.7,5.439,4.704,13.965,14.552999999999999,1029.87,138.71,NV\\r\\n11.6,4.06,3.48,10.091999999999999,9.628,746.54,120.21,NH\\r\\n11.2,1.7919999999999998,3.1359999999999997,9.632,8.735999999999999,1301.52,159.85,NJ\\r\\n18.4,3.4959999999999996,4.968,12.328,18.031999999999996,869.85,120.75,NM\\r\\n12.3,3.9360000000000004,3.5670000000000006,10.824000000000002,9.84,1234.31,150.01,NY\\r\\n16.8,6.5520000000000005,5.208000000000001,15.792,13.607999999999999,708.24,127.82,NC\\r\\n23.9,5.496999999999999,10.038,23.660999999999998,20.554000000000002,688.75,109.72,ND\\r\\n14.1,3.948,4.794,13.958999999999998,11.562000000000001,697.73,133.52,OH\\r\\n19.9,6.367999999999999,5.770999999999999,18.308,18.706,881.51,178.86,OK\\r\\n12.8,4.224,3.3280000000000003,8.576,11.52,804.71,104.61,OR\\r\\n18.2,9.1,5.6419999999999995,17.471999999999998,16.016,905.99,153.86,PA\\r\\n11.1,3.7739999999999996,4.218,10.212,8.769,1148.99,148.58,RI\\r\\n23.9,9.081999999999999,9.799,22.943999999999996,19.358999999999998,858.97,116.29,SC\\r\\n19.4,6.013999999999999,6.401999999999999,19.011999999999997,16.683999999999997,669.31,96.87,SD\\r\\n19.5,4.095,5.655,15.99,15.795,767.91,155.57,TN\\r\\n19.4,7.76,7.371999999999999,17.654,16.878,1004.75,156.83,TX\\r\\n11.3,4.859,1.808,9.944,10.848000000000003,809.38,109.48,UT\\r\\n13.6,4.08,4.08,13.056,12.92,716.2,109.61,VT\\r\\n12.7,2.413,3.429,11.049,11.175999999999998,768.95,153.72,VA\\r\\n10.6,4.452,3.498,8.692,9.116,890.03,111.62,WA\\r\\n23.8,8.092,6.664,23.086,20.706,992.61,152.56,WV\\r\\n13.8,4.968,4.554,5.382000000000001,11.592,670.31,106.62,WI\\r\\n17.4,7.308,5.568,14.094,15.659999999999998,791.14,122.04,WY\\r\\n'}"
            ]
          },
          "metadata": {},
          "execution_count": 2
        }
      ]
    },
    {
      "cell_type": "code",
      "source": [
        "df = pd.read_csv('car_crashes.csv')\n",
        "df"
      ],
      "metadata": {
        "id": "4u6LPw3738WA"
      },
      "execution_count": null,
      "outputs": []
    },
    {
      "cell_type": "code",
      "source": [
        "df=sns.load_dataset(name='car_crashes')\n",
        "df.head()"
      ],
      "metadata": {
        "colab": {
          "base_uri": "https://localhost:8080/",
          "height": 206
        },
        "id": "i14CYD0o3088",
        "outputId": "50db34eb-181d-4074-9894-083e3e70400f"
      },
      "execution_count": 14,
      "outputs": [
        {
          "output_type": "execute_result",
          "data": {
            "text/plain": [
              "   total  speeding  alcohol  not_distracted  no_previous  ins_premium  \\\n",
              "0   18.8     7.332    5.640          18.048       15.040       784.55   \n",
              "1   18.1     7.421    4.525          16.290       17.014      1053.48   \n",
              "2   18.6     6.510    5.208          15.624       17.856       899.47   \n",
              "3   22.4     4.032    5.824          21.056       21.280       827.34   \n",
              "4   12.0     4.200    3.360          10.920       10.680       878.41   \n",
              "\n",
              "   ins_losses abbrev  \n",
              "0      145.08     AL  \n",
              "1      133.93     AK  \n",
              "2      110.35     AZ  \n",
              "3      142.39     AR  \n",
              "4      165.63     CA  "
            ],
            "text/html": [
              "\n",
              "  <div id=\"df-61244ab8-be98-46a2-9dd2-22d02d6389f0\">\n",
              "    <div class=\"colab-df-container\">\n",
              "      <div>\n",
              "<style scoped>\n",
              "    .dataframe tbody tr th:only-of-type {\n",
              "        vertical-align: middle;\n",
              "    }\n",
              "\n",
              "    .dataframe tbody tr th {\n",
              "        vertical-align: top;\n",
              "    }\n",
              "\n",
              "    .dataframe thead th {\n",
              "        text-align: right;\n",
              "    }\n",
              "</style>\n",
              "<table border=\"1\" class=\"dataframe\">\n",
              "  <thead>\n",
              "    <tr style=\"text-align: right;\">\n",
              "      <th></th>\n",
              "      <th>total</th>\n",
              "      <th>speeding</th>\n",
              "      <th>alcohol</th>\n",
              "      <th>not_distracted</th>\n",
              "      <th>no_previous</th>\n",
              "      <th>ins_premium</th>\n",
              "      <th>ins_losses</th>\n",
              "      <th>abbrev</th>\n",
              "    </tr>\n",
              "  </thead>\n",
              "  <tbody>\n",
              "    <tr>\n",
              "      <th>0</th>\n",
              "      <td>18.8</td>\n",
              "      <td>7.332</td>\n",
              "      <td>5.640</td>\n",
              "      <td>18.048</td>\n",
              "      <td>15.040</td>\n",
              "      <td>784.55</td>\n",
              "      <td>145.08</td>\n",
              "      <td>AL</td>\n",
              "    </tr>\n",
              "    <tr>\n",
              "      <th>1</th>\n",
              "      <td>18.1</td>\n",
              "      <td>7.421</td>\n",
              "      <td>4.525</td>\n",
              "      <td>16.290</td>\n",
              "      <td>17.014</td>\n",
              "      <td>1053.48</td>\n",
              "      <td>133.93</td>\n",
              "      <td>AK</td>\n",
              "    </tr>\n",
              "    <tr>\n",
              "      <th>2</th>\n",
              "      <td>18.6</td>\n",
              "      <td>6.510</td>\n",
              "      <td>5.208</td>\n",
              "      <td>15.624</td>\n",
              "      <td>17.856</td>\n",
              "      <td>899.47</td>\n",
              "      <td>110.35</td>\n",
              "      <td>AZ</td>\n",
              "    </tr>\n",
              "    <tr>\n",
              "      <th>3</th>\n",
              "      <td>22.4</td>\n",
              "      <td>4.032</td>\n",
              "      <td>5.824</td>\n",
              "      <td>21.056</td>\n",
              "      <td>21.280</td>\n",
              "      <td>827.34</td>\n",
              "      <td>142.39</td>\n",
              "      <td>AR</td>\n",
              "    </tr>\n",
              "    <tr>\n",
              "      <th>4</th>\n",
              "      <td>12.0</td>\n",
              "      <td>4.200</td>\n",
              "      <td>3.360</td>\n",
              "      <td>10.920</td>\n",
              "      <td>10.680</td>\n",
              "      <td>878.41</td>\n",
              "      <td>165.63</td>\n",
              "      <td>CA</td>\n",
              "    </tr>\n",
              "  </tbody>\n",
              "</table>\n",
              "</div>\n",
              "      <button class=\"colab-df-convert\" onclick=\"convertToInteractive('df-61244ab8-be98-46a2-9dd2-22d02d6389f0')\"\n",
              "              title=\"Convert this dataframe to an interactive table.\"\n",
              "              style=\"display:none;\">\n",
              "        \n",
              "  <svg xmlns=\"http://www.w3.org/2000/svg\" height=\"24px\"viewBox=\"0 0 24 24\"\n",
              "       width=\"24px\">\n",
              "    <path d=\"M0 0h24v24H0V0z\" fill=\"none\"/>\n",
              "    <path d=\"M18.56 5.44l.94 2.06.94-2.06 2.06-.94-2.06-.94-.94-2.06-.94 2.06-2.06.94zm-11 1L8.5 8.5l.94-2.06 2.06-.94-2.06-.94L8.5 2.5l-.94 2.06-2.06.94zm10 10l.94 2.06.94-2.06 2.06-.94-2.06-.94-.94-2.06-.94 2.06-2.06.94z\"/><path d=\"M17.41 7.96l-1.37-1.37c-.4-.4-.92-.59-1.43-.59-.52 0-1.04.2-1.43.59L10.3 9.45l-7.72 7.72c-.78.78-.78 2.05 0 2.83L4 21.41c.39.39.9.59 1.41.59.51 0 1.02-.2 1.41-.59l7.78-7.78 2.81-2.81c.8-.78.8-2.07 0-2.86zM5.41 20L4 18.59l7.72-7.72 1.47 1.35L5.41 20z\"/>\n",
              "  </svg>\n",
              "      </button>\n",
              "      \n",
              "  <style>\n",
              "    .colab-df-container {\n",
              "      display:flex;\n",
              "      flex-wrap:wrap;\n",
              "      gap: 12px;\n",
              "    }\n",
              "\n",
              "    .colab-df-convert {\n",
              "      background-color: #E8F0FE;\n",
              "      border: none;\n",
              "      border-radius: 50%;\n",
              "      cursor: pointer;\n",
              "      display: none;\n",
              "      fill: #1967D2;\n",
              "      height: 32px;\n",
              "      padding: 0 0 0 0;\n",
              "      width: 32px;\n",
              "    }\n",
              "\n",
              "    .colab-df-convert:hover {\n",
              "      background-color: #E2EBFA;\n",
              "      box-shadow: 0px 1px 2px rgba(60, 64, 67, 0.3), 0px 1px 3px 1px rgba(60, 64, 67, 0.15);\n",
              "      fill: #174EA6;\n",
              "    }\n",
              "\n",
              "    [theme=dark] .colab-df-convert {\n",
              "      background-color: #3B4455;\n",
              "      fill: #D2E3FC;\n",
              "    }\n",
              "\n",
              "    [theme=dark] .colab-df-convert:hover {\n",
              "      background-color: #434B5C;\n",
              "      box-shadow: 0px 1px 3px 1px rgba(0, 0, 0, 0.15);\n",
              "      filter: drop-shadow(0px 1px 2px rgba(0, 0, 0, 0.3));\n",
              "      fill: #FFFFFF;\n",
              "    }\n",
              "  </style>\n",
              "\n",
              "      <script>\n",
              "        const buttonEl =\n",
              "          document.querySelector('#df-61244ab8-be98-46a2-9dd2-22d02d6389f0 button.colab-df-convert');\n",
              "        buttonEl.style.display =\n",
              "          google.colab.kernel.accessAllowed ? 'block' : 'none';\n",
              "\n",
              "        async function convertToInteractive(key) {\n",
              "          const element = document.querySelector('#df-61244ab8-be98-46a2-9dd2-22d02d6389f0');\n",
              "          const dataTable =\n",
              "            await google.colab.kernel.invokeFunction('convertToInteractive',\n",
              "                                                     [key], {});\n",
              "          if (!dataTable) return;\n",
              "\n",
              "          const docLinkHtml = 'Like what you see? Visit the ' +\n",
              "            '<a target=\"_blank\" href=https://colab.research.google.com/notebooks/data_table.ipynb>data table notebook</a>'\n",
              "            + ' to learn more about interactive tables.';\n",
              "          element.innerHTML = '';\n",
              "          dataTable['output_type'] = 'display_data';\n",
              "          await google.colab.output.renderOutput(dataTable, element);\n",
              "          const docLink = document.createElement('div');\n",
              "          docLink.innerHTML = docLinkHtml;\n",
              "          element.appendChild(docLink);\n",
              "        }\n",
              "      </script>\n",
              "    </div>\n",
              "  </div>\n",
              "  "
            ]
          },
          "metadata": {},
          "execution_count": 14
        }
      ]
    },
    {
      "cell_type": "code",
      "source": [
        "from turtle import color\n",
        "\n",
        "sns.scatterplot(x='alcohol',y='total',color='blue',data = df)"
      ],
      "metadata": {
        "colab": {
          "base_uri": "https://localhost:8080/",
          "height": 296
        },
        "id": "YfUac6z_37kl",
        "outputId": "362ad2a3-fe44-46f6-bff2-2a808b18230f"
      },
      "execution_count": 13,
      "outputs": [
        {
          "output_type": "execute_result",
          "data": {
            "text/plain": [
              "<matplotlib.axes._subplots.AxesSubplot at 0x7f713c015850>"
            ]
          },
          "metadata": {},
          "execution_count": 13
        },
        {
          "output_type": "display_data",
          "data": {
            "text/plain": [
              "<Figure size 432x288 with 1 Axes>"
            ],
            "image/png": "[encoded data removed]"
          },
          "metadata": {
            "needs_background": "light"
          }
        }
      ]
    },
    {
      "cell_type": "code",
      "source": [
        "sns.scatterplot(x='speeding',y='total',color='blue',data = df)"
      ],
      "metadata": {
        "colab": {
          "base_uri": "https://localhost:8080/",
          "height": 296
        },
        "id": "hEa3c0Am49J8",
        "outputId": "d0697f59-1e72-4be5-e230-6e0f300f58c7"
      },
      "execution_count": 15,
      "outputs": [
        {
          "output_type": "execute_result",
          "data": {
            "text/plain": [
              "<matplotlib.axes._subplots.AxesSubplot at 0x7f7138e54f90>"
            ]
          },
          "metadata": {},
          "execution_count": 15
        },
        {
          "output_type": "display_data",
          "data": {
            "text/plain": [
              "<Figure size 432x288 with 1 Axes>"
            ],
            "image/png": "[encoded data removed]"
          },
          "metadata": {
            "needs_background": "light"
          }
        }
      ]
    },
    {
      "cell_type": "code",
      "source": [
        "sns.scatterplot(x='not_distracted',y='total',color='blue',data = df)"
      ],
      "metadata": {
        "colab": {
          "base_uri": "https://localhost:8080/",
          "height": 297
        },
        "id": "D15iombC5BFj",
        "outputId": "efb639ee-983f-4695-f3b2-11d649bde592"
      },
      "execution_count": 16,
      "outputs": [
        {
          "output_type": "execute_result",
          "data": {
            "text/plain": [
              "<matplotlib.axes._subplots.AxesSubplot at 0x7f713897d710>"
            ]
          },
          "metadata": {},
          "execution_count": 16
        },
        {
          "output_type": "display_data",
          "data": {
            "text/plain": [
              "<Figure size 432x288 with 1 Axes>"
            ],
            "image/png": "[encoded data removed]"
          },
          "metadata": {
            "needs_background": "light"
          }
        }
      ]
    },
    {
      "cell_type": "code",
      "source": [
        "sns.scatterplot(x='no_previous',y='total',color='blue',data = df)"
      ],
      "metadata": {
        "colab": {
          "base_uri": "https://localhost:8080/",
          "height": 297
        },
        "id": "qwpnsruM5HPB",
        "outputId": "95f154d4-55f4-4316-810d-d479c0ec83b5"
      },
      "execution_count": 17,
      "outputs": [
        {
          "output_type": "execute_result",
          "data": {
            "text/plain": [
              "<matplotlib.axes._subplots.AxesSubplot at 0x7f71388ed990>"
            ]
          },
          "metadata": {},
          "execution_count": 17
        },
        {
          "output_type": "display_data",
          "data": {
            "text/plain": [
              "<Figure size 432x288 with 1 Axes>"
            ],
            "image/png": "[encoded data removed]"
          },
          "metadata": {
            "needs_background": "light"
          }
        }
      ]
    },
    {
      "cell_type": "code",
      "source": [
        "sns.scatterplot(x='ins_premium',y='total',color='blue',data = df)"
      ],
      "metadata": {
        "colab": {
          "base_uri": "https://localhost:8080/",
          "height": 297
        },
        "id": "OsAENcWC5Lbw",
        "outputId": "d8d04f2a-6b52-4e55-e156-b4e69334c803"
      },
      "execution_count": 18,
      "outputs": [
        {
          "output_type": "execute_result",
          "data": {
            "text/plain": [
              "<matplotlib.axes._subplots.AxesSubplot at 0x7f71388f09d0>"
            ]
          },
          "metadata": {},
          "execution_count": 18
        },
        {
          "output_type": "display_data",
          "data": {
            "text/plain": [
              "<Figure size 432x288 with 1 Axes>"
            ],
            "image/png": "[encoded data removed]"
          },
          "metadata": {
            "needs_background": "light"
          }
        }
      ]
    },
    {
      "cell_type": "code",
      "source": [
        "sns.scatterplot(x='ins_losses',y='total',color='blue',data = df)"
      ],
      "metadata": {
        "colab": {
          "base_uri": "https://localhost:8080/",
          "height": 297
        },
        "id": "_apHiKP05NiW",
        "outputId": "767d3661-9da3-4995-e4f3-d371db50fa25"
      },
      "execution_count": 19,
      "outputs": [
        {
          "output_type": "execute_result",
          "data": {
            "text/plain": [
              "<matplotlib.axes._subplots.AxesSubplot at 0x7f7138838c90>"
            ]
          },
          "metadata": {},
          "execution_count": 19
        },
        {
          "output_type": "display_data",
          "data": {
            "text/plain": [
              "<Figure size 432x288 with 1 Axes>"
            ],
            "image/png": "[encoded data removed]"
          },
          "metadata": {
            "needs_background": "light"
          }
        }
      ]
    },
    {
      "cell_type": "code",
      "source": [
        "df.corr()"
      ],
      "metadata": {
        "colab": {
          "base_uri": "https://localhost:8080/",
          "height": 269
        },
        "id": "xkVk-JH47n0b",
        "outputId": "3556ac6e-e943-4d79-f21a-e8aa8dfb396b"
      },
      "execution_count": 20,
      "outputs": [
        {
          "output_type": "execute_result",
          "data": {
            "text/plain": [
              "                   total  speeding   alcohol  not_distracted  no_previous  \\\n",
              "total           1.000000  0.611548  0.852613        0.827560     0.956179   \n",
              "speeding        0.611548  1.000000  0.669719        0.588010     0.571976   \n",
              "alcohol         0.852613  0.669719  1.000000        0.732816     0.783520   \n",
              "not_distracted  0.827560  0.588010  0.732816        1.000000     0.747307   \n",
              "no_previous     0.956179  0.571976  0.783520        0.747307     1.000000   \n",
              "ins_premium    -0.199702 -0.077675 -0.170612       -0.174856    -0.156895   \n",
              "ins_losses     -0.036011 -0.065928 -0.112547       -0.075970    -0.006359   \n",
              "\n",
              "                ins_premium  ins_losses  \n",
              "total             -0.199702   -0.036011  \n",
              "speeding          -0.077675   -0.065928  \n",
              "alcohol           -0.170612   -0.112547  \n",
              "not_distracted    -0.174856   -0.075970  \n",
              "no_previous       -0.156895   -0.006359  \n",
              "ins_premium        1.000000    0.623116  \n",
              "ins_losses         0.623116    1.000000  "
            ],
            "text/html": [
              "\n",
              "  <div id=\"df-811bad24-3b5f-4016-b058-c682861c950c\">\n",
              "    <div class=\"colab-df-container\">\n",
              "      <div>\n",
              "<style scoped>\n",
              "    .dataframe tbody tr th:only-of-type {\n",
              "        vertical-align: middle;\n",
              "    }\n",
              "\n",
              "    .dataframe tbody tr th {\n",
              "        vertical-align: top;\n",
              "    }\n",
              "\n",
              "    .dataframe thead th {\n",
              "        text-align: right;\n",
              "    }\n",
              "</style>\n",
              "<table border=\"1\" class=\"dataframe\">\n",
              "  <thead>\n",
              "    <tr style=\"text-align: right;\">\n",
              "      <th></th>\n",
              "      <th>total</th>\n",
              "      <th>speeding</th>\n",
              "      <th>alcohol</th>\n",
              "      <th>not_distracted</th>\n",
              "      <th>no_previous</th>\n",
              "      <th>ins_premium</th>\n",
              "      <th>ins_losses</th>\n",
              "    </tr>\n",
              "  </thead>\n",
              "  <tbody>\n",
              "    <tr>\n",
              "      <th>total</th>\n",
              "      <td>1.000000</td>\n",
              "      <td>0.611548</td>\n",
              "      <td>0.852613</td>\n",
              "      <td>0.827560</td>\n",
              "      <td>0.956179</td>\n",
              "      <td>-0.199702</td>\n",
              "      <td>-0.036011</td>\n",
              "    </tr>\n",
              "    <tr>\n",
              "      <th>speeding</th>\n",
              "      <td>0.611548</td>\n",
              "      <td>1.000000</td>\n",
              "      <td>0.669719</td>\n",
              "      <td>0.588010</td>\n",
              "      <td>0.571976</td>\n",
              "      <td>-0.077675</td>\n",
              "      <td>-0.065928</td>\n",
              "    </tr>\n",
              "    <tr>\n",
              "      <th>alcohol</th>\n",
              "      <td>0.852613</td>\n",
              "      <td>0.669719</td>\n",
              "      <td>1.000000</td>\n",
              "      <td>0.732816</td>\n",
              "      <td>0.783520</td>\n",
              "      <td>-0.170612</td>\n",
              "      <td>-0.112547</td>\n",
              "    </tr>\n",
              "    <tr>\n",
              "      <th>not_distracted</th>\n",
              "      <td>0.827560</td>\n",
              "      <td>0.588010</td>\n",
              "      <td>0.732816</td>\n",
              "      <td>1.000000</td>\n",
              "      <td>0.747307</td>\n",
              "      <td>-0.174856</td>\n",
              "      <td>-0.075970</td>\n",
              "    </tr>\n",
              "    <tr>\n",
              "      <th>no_previous</th>\n",
              "      <td>0.956179</td>\n",
              "      <td>0.571976</td>\n",
              "      <td>0.783520</td>\n",
              "      <td>0.747307</td>\n",
              "      <td>1.000000</td>\n",
              "      <td>-0.156895</td>\n",
              "      <td>-0.006359</td>\n",
              "    </tr>\n",
              "    <tr>\n",
              "      <th>ins_premium</th>\n",
              "      <td>-0.199702</td>\n",
              "      <td>-0.077675</td>\n",
              "      <td>-0.170612</td>\n",
              "      <td>-0.174856</td>\n",
              "      <td>-0.156895</td>\n",
              "      <td>1.000000</td>\n",
              "      <td>0.623116</td>\n",
              "    </tr>\n",
              "    <tr>\n",
              "      <th>ins_losses</th>\n",
              "      <td>-0.036011</td>\n",
              "      <td>-0.065928</td>\n",
              "      <td>-0.112547</td>\n",
              "      <td>-0.075970</td>\n",
              "      <td>-0.006359</td>\n",
              "      <td>0.623116</td>\n",
              "      <td>1.000000</td>\n",
              "    </tr>\n",
              "  </tbody>\n",
              "</table>\n",
              "</div>\n",
              "      <button class=\"colab-df-convert\" onclick=\"convertToInteractive('df-811bad24-3b5f-4016-b058-c682861c950c')\"\n",
              "              title=\"Convert this dataframe to an interactive table.\"\n",
              "              style=\"display:none;\">\n",
              "        \n",
              "  <svg xmlns=\"http://www.w3.org/2000/svg\" height=\"24px\"viewBox=\"0 0 24 24\"\n",
              "       width=\"24px\">\n",
              "    <path d=\"M0 0h24v24H0V0z\" fill=\"none\"/>\n",
              "    <path d=\"M18.56 5.44l.94 2.06.94-2.06 2.06-.94-2.06-.94-.94-2.06-.94 2.06-2.06.94zm-11 1L8.5 8.5l.94-2.06 2.06-.94-2.06-.94L8.5 2.5l-.94 2.06-2.06.94zm10 10l.94 2.06.94-2.06 2.06-.94-2.06-.94-.94-2.06-.94 2.06-2.06.94z\"/><path d=\"M17.41 7.96l-1.37-1.37c-.4-.4-.92-.59-1.43-.59-.52 0-1.04.2-1.43.59L10.3 9.45l-7.72 7.72c-.78.78-.78 2.05 0 2.83L4 21.41c.39.39.9.59 1.41.59.51 0 1.02-.2 1.41-.59l7.78-7.78 2.81-2.81c.8-.78.8-2.07 0-2.86zM5.41 20L4 18.59l7.72-7.72 1.47 1.35L5.41 20z\"/>\n",
              "  </svg>\n",
              "      </button>\n",
              "      \n",
              "  <style>\n",
              "    .colab-df-container {\n",
              "      display:flex;\n",
              "      flex-wrap:wrap;\n",
              "      gap: 12px;\n",
              "    }\n",
              "\n",
              "    .colab-df-convert {\n",
              "      background-color: #E8F0FE;\n",
              "      border: none;\n",
              "      border-radius: 50%;\n",
              "      cursor: pointer;\n",
              "      display: none;\n",
              "      fill: #1967D2;\n",
              "      height: 32px;\n",
              "      padding: 0 0 0 0;\n",
              "      width: 32px;\n",
              "    }\n",
              "\n",
              "    .colab-df-convert:hover {\n",
              "      background-color: #E2EBFA;\n",
              "      box-shadow: 0px 1px 2px rgba(60, 64, 67, 0.3), 0px 1px 3px 1px rgba(60, 64, 67, 0.15);\n",
              "      fill: #174EA6;\n",
              "    }\n",
              "\n",
              "    [theme=dark] .colab-df-convert {\n",
              "      background-color: #3B4455;\n",
              "      fill: #D2E3FC;\n",
              "    }\n",
              "\n",
              "    [theme=dark] .colab-df-convert:hover {\n",
              "      background-color: #434B5C;\n",
              "      box-shadow: 0px 1px 3px 1px rgba(0, 0, 0, 0.15);\n",
              "      filter: drop-shadow(0px 1px 2px rgba(0, 0, 0, 0.3));\n",
              "      fill: #FFFFFF;\n",
              "    }\n",
              "  </style>\n",
              "\n",
              "      <script>\n",
              "        const buttonEl =\n",
              "          document.querySelector('#df-811bad24-3b5f-4016-b058-c682861c950c button.colab-df-convert');\n",
              "        buttonEl.style.display =\n",
              "          google.colab.kernel.accessAllowed ? 'block' : 'none';\n",
              "\n",
              "        async function convertToInteractive(key) {\n",
              "          const element = document.querySelector('#df-811bad24-3b5f-4016-b058-c682861c950c');\n",
              "          const dataTable =\n",
              "            await google.colab.kernel.invokeFunction('convertToInteractive',\n",
              "                                                     [key], {});\n",
              "          if (!dataTable) return;\n",
              "\n",
              "          const docLinkHtml = 'Like what you see? Visit the ' +\n",
              "            '<a target=\"_blank\" href=https://colab.research.google.com/notebooks/data_table.ipynb>data table notebook</a>'\n",
              "            + ' to learn more about interactive tables.';\n",
              "          element.innerHTML = '';\n",
              "          dataTable['output_type'] = 'display_data';\n",
              "          await google.colab.output.renderOutput(dataTable, element);\n",
              "          const docLink = document.createElement('div');\n",
              "          docLink.innerHTML = docLinkHtml;\n",
              "          element.appendChild(docLink);\n",
              "        }\n",
              "      </script>\n",
              "    </div>\n",
              "  </div>\n",
              "  "
            ]
          },
          "metadata": {},
          "execution_count": 20
        }
      ]
    },
    {
      "cell_type": "code",
      "source": [
        "#Declaramos las bariables dependientes e independientes para la regresión\n",
        "#Xl = df[['alcohol','speeding]] \n",
        "X1 = df[['alcohol']]\n",
        "X2 = df[['speeding']]\n",
        "X3 = df[['not_distracted']]\n",
        "X4 = df[['no_previous']]\n",
        "X5 = df[['ins_premium']]\n",
        "X6 = df[['ins_losses']]\n",
        "yl = df[['total']]"
      ],
      "metadata": {
        "id": "rwMAcU_Q8xdI"
      },
      "execution_count": 32,
      "outputs": []
    },
    {
      "cell_type": "code",
      "source": [
        "from sklearn.linear_model import LinearRegression\n",
        "model = LinearRegression()"
      ],
      "metadata": {
        "id": "yhqO64ny846q"
      },
      "execution_count": 24,
      "outputs": []
    },
    {
      "cell_type": "code",
      "source": [
        "type(model)"
      ],
      "metadata": {
        "colab": {
          "base_uri": "https://localhost:8080/"
        },
        "id": "nv992y6H9IxE",
        "outputId": "f2b7abcb-3f47-4551-d349-cc8b78cd882e"
      },
      "execution_count": 25,
      "outputs": [
        {
          "output_type": "execute_result",
          "data": {
            "text/plain": [
              "sklearn.linear_model._base.LinearRegression"
            ]
          },
          "metadata": {},
          "execution_count": 25
        }
      ]
    },
    {
      "cell_type": "code",
      "source": [
        "model.fit(X = X5, y = yl)\n",
        "print(model.score(X5,yl),\"\\n\")\n",
        "model.__dict__"
      ],
      "metadata": {
        "colab": {
          "base_uri": "https://localhost:8080/"
        },
        "id": "BmigXBAX9XOC",
        "outputId": "5cd476d4-9e52-48e3-8f52-a7d958b6d5a3"
      },
      "execution_count": 46,
      "outputs": [
        {
          "output_type": "stream",
          "name": "stdout",
          "text": [
            "0.03988086711234895 \n",
            "\n"
          ]
        },
        {
          "output_type": "execute_result",
          "data": {
            "text/plain": [
              "{'fit_intercept': True,\n",
              " 'normalize': 'deprecated',\n",
              " 'copy_X': True,\n",
              " 'n_jobs': None,\n",
              " 'positive': False,\n",
              " 'feature_names_in_': array(['ins_premium'], dtype=object),\n",
              " 'n_features_in_': 1,\n",
              " 'coef_': array([[-0.00461688]]),\n",
              " '_residues': array([815.66450288]),\n",
              " 'rank_': 1,\n",
              " 'singular_': array([1260.74512036]),\n",
              " 'intercept_': array([19.88516964])}"
            ]
          },
          "metadata": {},
          "execution_count": 46
        }
      ]
    }
  ]
}